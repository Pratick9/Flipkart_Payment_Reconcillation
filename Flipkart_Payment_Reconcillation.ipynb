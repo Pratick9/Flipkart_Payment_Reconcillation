{
  "nbformat": 4,
  "nbformat_minor": 0,
  "metadata": {
    "colab": {
      "provenance": [],
      "authorship_tag": "ABX9TyMA3lz/UsoDNpTsYbA+fhjr",
      "include_colab_link": true
    },
    "kernelspec": {
      "name": "python3",
      "display_name": "Python 3"
    },
    "language_info": {
      "name": "python"
    }
  },
  "cells": [
    {
      "cell_type": "markdown",
      "metadata": {
        "id": "view-in-github",
        "colab_type": "text"
      },
      "source": [
        "<a href=\"https://colab.research.google.com/github/Pratick9/Flipkart_Payment_Reconcillation/blob/main/Flipkart_Payment_Reconcillation.ipynb\" target=\"_parent\"><img src=\"https://colab.research.google.com/assets/colab-badge.svg\" alt=\"Open In Colab\"/></a>"
      ]
    },
    {
      "cell_type": "code",
      "execution_count": 78,
      "metadata": {
        "id": "_xUqnjl8j1dY"
      },
      "outputs": [],
      "source": [
        "import pandas as pd\n",
        "from tabulate import tabulate\n",
        "df = pd.read_csv('/content/Flipkart_Payment.csv')\n"
      ]
    },
    {
      "cell_type": "code",
      "source": [
        "print(df.info())"
      ],
      "metadata": {
        "id": "agW8IVtDkE7w",
        "colab": {
          "base_uri": "https://localhost:8080/"
        },
        "outputId": "58f4f4b0-e35f-4510-cdfa-ab45380000fe"
      },
      "execution_count": 79,
      "outputs": [
        {
          "output_type": "stream",
          "name": "stdout",
          "text": [
            "<class 'pandas.core.frame.DataFrame'>\n",
            "RangeIndex: 792 entries, 0 to 791\n",
            "Data columns (total 3 columns):\n",
            " #   Column  Non-Null Count  Dtype  \n",
            "---  ------  --------------  -----  \n",
            " 0   SKU     739 non-null    object \n",
            " 1   Sale    792 non-null    float64\n",
            " 2   Return  739 non-null    object \n",
            "dtypes: float64(1), object(2)\n",
            "memory usage: 18.7+ KB\n",
            "None\n"
          ]
        }
      ]
    },
    {
      "cell_type": "code",
      "source": [
        "# Fill null values in the \"SKU\" column with \"NA\"\n",
        "df['SKU'].fillna('NA', inplace=True)\n",
        "\n",
        "# Count the number of null values in the \"SKU\" column (after filling)\n",
        "null_sku_count = df['SKU'].isnull().sum()\n",
        "\n",
        "# Print the number of null values in the \"SKU\" column (after filling)\n",
        "print(\"Number of null values in the SKU column (after filling):\", null_sku_count)"
      ],
      "metadata": {
        "colab": {
          "base_uri": "https://localhost:8080/"
        },
        "id": "vE6ViDBk3DcR",
        "outputId": "20600118-e149-466a-aed2-8469d17e3dfd"
      },
      "execution_count": 80,
      "outputs": [
        {
          "output_type": "stream",
          "name": "stdout",
          "text": [
            "Number of null values in the SKU column (after filling): 0\n"
          ]
        }
      ]
    },
    {
      "cell_type": "code",
      "source": [
        "import pandas as pd\n",
        "\n",
        "# Get unique SKUs\n",
        "unique_skus = df['SKU'].unique()\n",
        "sal = 0\n",
        "# Iterate over unique SKUs\n",
        "for sku in unique_skus:\n",
        "    # Filter rows matching the SKU\n",
        "    sku_rows = df[df['SKU'] == sku]\n",
        "\n",
        "    # Count sales with a value greater than 0\n",
        "    filtered_df = sku_rows[(sku_rows['Sale'] > 0) & (sku_rows['Return'] == 'Done')]\n",
        "    sales_count = len(filtered_df)\n",
        "    # If there are any sales, print the SKU and \"Done\"\n",
        "    if sales_count > 0:\n",
        "        # print(f\"SKU: {sku}, \\nSales: {sales_count}\")    To get individual uncomment\n",
        "        sal+=sales_count\n",
        "print(\"Total Sales for checking :\",sal)"
      ],
      "metadata": {
        "colab": {
          "base_uri": "https://localhost:8080/"
        },
        "id": "Pc952sesx_gm",
        "outputId": "bb372a41-326a-41ae-a12f-840c9ea4da9b"
      },
      "execution_count": 103,
      "outputs": [
        {
          "output_type": "stream",
          "name": "stdout",
          "text": [
            "Total Sales for checking : 257\n"
          ]
        }
      ]
    },
    {
      "cell_type": "code",
      "source": [
        "import pandas as pd\n",
        "check=0\n",
        "\n",
        "# Fill null values in the \"SKU\" column with \"NA\"\n",
        "df['SKU'].fillna('NA', inplace=True)\n",
        "\n",
        "# Define the list of SKUs and their corresponding categories\n",
        "sku_category_list = [\n",
        "    ('M_BLK_34', 'Blazer'),('M_NB_36','Blazer'),('M_RB_BLK_M','2_Eco'),('100JAGADAMBACOLLECTION_ Bow Tie','Bow'),('Manoxo_WC_R_Blue_42','Eco'),('M_BTSH_XXL','T-shirt'),\n",
        "    ('JagdambaBlackRoyalBlueRedTie', 'Tie'),('M_GermBlue_Shinning_L','HM'),('100JAGDAMBACOLLECTION_40','Blazer'),('M_BLK_48','Blazer'),\n",
        "     ('M_BLK_36','Blazer'),('M_NB_40','Blazer'),('Manoxo_Black_38','Blazer'),('Manoxo_WC_N_Blue_40','Eco'),('Manoxo_WC_Brown_40','Eco'),('100Jagdambacollection_WC_36','Eco'),\n",
        "      ('M_NTSH_M','T-shirt'),('M_GermBlue_Shinning_M','HM'),('Manoxo_WC_Marooon_42','Eco'),('Manoxo_Black__44','Blazer'),('Manoxo_WC_Black_40','Eco'),('M_BLK_50','Blazer'),('M_MARN_BLK_M','2_Eco'),\n",
        "       ('M_WSTH_XXL','T-shirt'),('M_NTSH_XXL','T-shirt'),('100JAGADAMBACOLLECTION_BLUE 38','Blazer'),('M_GTSH_XXL','T-shirt'),('M_RBTSH_XL','T-shirt'),('M_BLK_44','Blazer'),('Manoxo_WC_R_Blue_36','Eco'),\n",
        "    ('Jagdambacollection_hankie','3-Hankie'),('Jagda_mahroontie','Tie'),('Manoxo_WC_Black_42','Eco'),('Manoxo_black_46_','Blazer'),('Manoxo_Black_36','Blazer'),('100JAGDAMBACOLLECTION_BLUE_34','Blazer'),\n",
        "    ('M_NSTH_3XL','T-shirt'),('M_NB_48','Blazer'),('M_WSTH_M','T-shirt'),('M_BLK_42','Blazer'),('M_WSTH_XL','Blazer'),('Manoxo_Black_48__','Blazer'),('M_BLK_38','Blazer'),('M_BLK_40','Blazer'),\n",
        "     ('Manoxo_Black_40','Blazer'),('100JAGADAMBACOLLECTION_BLUE 40','Blazer'),('Manoxo_WC_N_Blue_42','Eco'),('Manoxo_WC_Black_38','Eco'),('M_NB_46','Blazer'),('M_BLK_46','Blazer'),('M_Combo_5_M','5_Eco'),\n",
        "    ('Manoxo_Black_32','Blazer'),('100JAGDAMBACOLLECTION_32','Blazer'),('MANOXOCOLLECTION_Blue_38','Blazer'),('Manoxo_WC_Black_38','Eco'),('JAGDAMBACOLLECTION_ TIE','Tie'),('M_NB_34','Blazer'),('M_NB_42','Blazer'),\n",
        "    ('Manoxo_Black_42','Blazer'),('M_NB_32','Blazer'),('M_Blk_Shinning_L','HM'),('M_GTSH_S','T-shirt'),('M_GTSH_M','T-shirt'),('M_Wine_Shinning_S','HM'),('M_NB_44','Blazer'),('Manoxo_Black_34','Blazer'),\n",
        "    ('M_Mar_Shinning_XL','HM'),('Manoxo_WC_Black_36','Eco'),('M_RSTH_XXL','T-shirt')\n",
        "\n",
        "    # Add more SKU-category pairs as needed\n",
        "]\n",
        "\n",
        "# Create a dictionary to map SKUs to their categories\n",
        "sku_category_dict = dict(sku_category_list)\n",
        "\n",
        "# Group the data by category\n",
        "grouped_df = df.groupby(df['SKU'].map(sku_category_dict))\n",
        "\n",
        "# Iterate over each category\n",
        "for category, category_df in grouped_df:\n",
        "    # Filter rows with sales greater than 0 and return Done value\n",
        "    filtered_df = category_df[(category_df['Sale'] > 0) & (category_df['Return'] == 'Done')]\n",
        "    # sales_count = len(filtered_df)\n",
        "    # filtered_df = category_df[category_df['Sale'] > 0]\n",
        "    count = filtered_df.shape[0]\n",
        "\n",
        "    print(f\"Category: {category}, Count of Sales --> {count}\")\n",
        "    check+=count\n",
        "print(\"Total Sales for checking :\",check)\n"
      ],
      "metadata": {
        "colab": {
          "base_uri": "https://localhost:8080/"
        },
        "id": "S8EsBC_b_lHa",
        "outputId": "79764abd-d6e1-4040-d319-05bc375552e0"
      },
      "execution_count": 102,
      "outputs": [
        {
          "output_type": "stream",
          "name": "stdout",
          "text": [
            "Category: 2_Eco, Count of Sales --> 2\n",
            "Category: 3-Hankie, Count of Sales --> 1\n",
            "Category: 5_Eco, Count of Sales --> 1\n",
            "Category: Blazer, Count of Sales --> 157\n",
            "Category: Bow, Count of Sales --> 3\n",
            "Category: Eco, Count of Sales --> 20\n",
            "Category: HM, Count of Sales --> 6\n",
            "Category: T-shirt, Count of Sales --> 21\n",
            "Category: Tie, Count of Sales --> 46\n",
            "Total Sales for checking : 257\n"
          ]
        }
      ]
    },
    {
      "cell_type": "code",
      "source": [
        "total_sale = df['Sale'].sum()\n",
        "total_sale"
      ],
      "metadata": {
        "colab": {
          "base_uri": "https://localhost:8080/"
        },
        "id": "EK8exP4NEDhg",
        "outputId": "65c03fc2-d2ea-43d6-e49d-8110769eaacc"
      },
      "execution_count": 104,
      "outputs": [
        {
          "output_type": "execute_result",
          "data": {
            "text/plain": [
              "44668.520000000004"
            ]
          },
          "metadata": {},
          "execution_count": 104
        }
      ]
    }
  ]
}